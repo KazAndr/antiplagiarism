{
 "cells": [
  {
   "cell_type": "code",
   "execution_count": 2,
   "metadata": {},
   "outputs": [],
   "source": [
    "import re\n",
    "\n",
    "import numpy as np\n",
    "import pandas as pd\n",
    "import plotly.express as px\n",
    "\n",
    "from difflib import SequenceMatcher"
   ]
  },
  {
   "cell_type": "code",
   "execution_count": 3,
   "metadata": {},
   "outputs": [],
   "source": [
    "def get_name_vars(code):\n",
    "    vars_list = {}\n",
    "    list_lines = code.split('\\n')\n",
    "    list_lines = [i.lstrip() for i in list_lines if ' = ' in i]\n",
    "    \n",
    "    for idx, line in enumerate(list_lines):\n",
    "        var = line.split(' = ')[0]\n",
    "        if var not in vars_list and '.' not in var and var[0] != '#':\n",
    "            vars_list[var] = f'v_{idx}'\n",
    "    return vars_list\n",
    "\n",
    "def get_name_aliases(code):\n",
    "    aliases_list = {}\n",
    "    list_lines = code.split('\\n')\n",
    "    list_lines = [i.lstrip() for i in list_lines if ' as ' in i]\n",
    "    \n",
    "    for idx, line in enumerate(list_lines):\n",
    "        alias = line.split(' as ')[-1]\n",
    "        if alias not in aliases_list and alias[0] != '#':\n",
    "            aliases_list[alias] = f'module_{idx}'\n",
    "\n",
    "    return aliases_list\n",
    "\n",
    "\n",
    "def replace_names(code, names):\n",
    "    for key, value in names.items():\n",
    "        code = re.sub(fr'\\b{key}\\b', value, code)\n",
    "    return code\n",
    "\n",
    "\n",
    "def hash_comparison(s1, s2):\n",
    "    return int(hash(s1.lower()) == hash(s2.lower()))\n",
    "\n",
    "\n",
    "def similar(s1, s2):\n",
    "    return SequenceMatcher(None, s1, s2).ratio()\n",
    "\n",
    "\n",
    "def normalisation(code):\n",
    "    module_names = get_name_aliases(code)\n",
    "    variable_names = get_name_vars(code)\n",
    "    \n",
    "    code = replace_names(code, module_names)\n",
    "    code = replace_names(code, variable_names)\n",
    "    \n",
    "    return code.replace('\\n', '')"
   ]
  },
  {
   "cell_type": "code",
   "execution_count": 4,
   "metadata": {},
   "outputs": [],
   "source": [
    "answers = pd.read_csv('5. Python.csv')"
   ]
  },
  {
   "cell_type": "code",
   "execution_count": 11,
   "metadata": {},
   "outputs": [],
   "source": [
    "name_answers = [i for i in answers.columns if 'Ответ ' in i]"
   ]
  },
  {
   "cell_type": "code",
   "execution_count": 12,
   "metadata": {},
   "outputs": [
    {
     "data": {
      "text/plain": [
       "['Ответ 1',\n",
       " 'Ответ 2',\n",
       " 'Ответ 3',\n",
       " 'Ответ 4',\n",
       " 'Ответ 5',\n",
       " 'Ответ 6',\n",
       " 'Ответ 7',\n",
       " 'Ответ 8',\n",
       " 'Ответ 9',\n",
       " 'Ответ 10']"
      ]
     },
     "execution_count": 12,
     "metadata": {},
     "output_type": "execute_result"
    }
   ],
   "source": [
    "name_answers"
   ]
  },
  {
   "cell_type": "code",
   "execution_count": null,
   "metadata": {},
   "outputs": [],
   "source": []
  },
  {
   "cell_type": "code",
   "execution_count": 13,
   "metadata": {},
   "outputs": [],
   "source": [
    "# Creating list of names and surnames\n",
    "students = []\n",
    "for idx, row in answers.iterrows():\n",
    "    splited_name = row['Имя'].split()\n",
    "    if len(splited_name) == 2:\n",
    "        splited_name = splited_name[1]\n",
    "    else:\n",
    "        splited_name = splited_name[0]\n",
    "        \n",
    "    students.append(f\"{row['Фамилия']} {splited_name}\")"
   ]
  },
  {
   "cell_type": "code",
   "execution_count": 14,
   "metadata": {},
   "outputs": [
    {
     "data": {
      "text/plain": [
       "['Андреев Дмитрий',\n",
       " 'Чен Юлия',\n",
       " 'Серова Анастасия',\n",
       " 'Симонов Евгений',\n",
       " 'Телелюхин Константин',\n",
       " 'Костин Даниил',\n",
       " 'Ляхов Дмитрий',\n",
       " 'Борисова Анастасия',\n",
       " 'Дынина Екатерина',\n",
       " 'Гаранина Софья',\n",
       " 'Бычков Максим',\n",
       " 'Магомедэминов Никита',\n",
       " 'Невоструев Андрей',\n",
       " 'Воронина Дарья',\n",
       " 'Кузьмина Валентина',\n",
       " 'Шаповалова Софья',\n",
       " 'Гранек Анна',\n",
       " 'Суворова Галина',\n",
       " 'Гани Михаил',\n",
       " 'Булинин Игорь',\n",
       " 'Илющенко Анна',\n",
       " 'Сергеенкова Марта',\n",
       " 'Зеленев Вячеслав',\n",
       " 'Лебедева Екатерина',\n",
       " 'Ельчев Пётр',\n",
       " 'Лакиза Дмитрий',\n",
       " 'Серёжин Владимир',\n",
       " 'Павлюченков Сергей',\n",
       " 'Цхвитария Николас',\n",
       " 'Овчинникова Милана']"
      ]
     },
     "execution_count": 14,
     "metadata": {},
     "output_type": "execute_result"
    }
   ],
   "source": [
    "students"
   ]
  },
  {
   "cell_type": "code",
   "execution_count": 18,
   "metadata": {},
   "outputs": [],
   "source": [
    "name_answer = name_answers[0]\n",
    "text_of_answer = answers[name_answer]\n",
    "\n",
    "text_of_answer = list(map(normalisation, text_of_answer))\n",
    "\n",
    "corr_matrix = np.zeros((answers.shape[0], answers.shape[0]))\n",
    "\n",
    "for i, ref_answer in enumerate(text_of_answer):\n",
    "    for j, checking_answer in enumerate(text_of_answer):\n",
    "        \n",
    "        if ref_answer == '-' or checking_answer == '-':\n",
    "            corr_matrix[i][j] = 0\n",
    "        else:\n",
    "            if hash_comparison(ref_answer, checking_answer):\n",
    "                corr_matrix[i][j] = 1\n",
    "            else:\n",
    "                corr_matrix[i][j] = round(similar(ref_answer, checking_answer), 2)"
   ]
  },
  {
   "cell_type": "code",
   "execution_count": 19,
   "metadata": {},
   "outputs": [],
   "source": [
    "fig = px.imshow(corr_matrix,\n",
    "                x=students,\n",
    "                y=students,\n",
    "                text_auto=True, \n",
    "                aspect=\"auto\",\n",
    "                title=name_answer\n",
    "               )\n",
    "\n",
    "fig.update_xaxes(side=\"top\")\n",
    "fig.update_xaxes(tickangle=-50)\n",
    "fig.update_layout(autosize=False, width=1200, height=1000)\n",
    "fig.write_image(f\"{name_answer}.jpeg\")"
   ]
  },
  {
   "cell_type": "code",
   "execution_count": null,
   "metadata": {},
   "outputs": [],
   "source": []
  }
 ],
 "metadata": {
  "kernelspec": {
   "display_name": "Python 3",
   "language": "python",
   "name": "python3"
  },
  "language_info": {
   "codemirror_mode": {
    "name": "ipython",
    "version": 3
   },
   "file_extension": ".py",
   "mimetype": "text/x-python",
   "name": "python",
   "nbconvert_exporter": "python",
   "pygments_lexer": "ipython3",
   "version": "3.7.7"
  }
 },
 "nbformat": 4,
 "nbformat_minor": 4
}
